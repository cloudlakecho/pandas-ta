{
 "cells": [
  {
   "cell_type": "markdown",
   "metadata": {},
   "source": [
    "# Strategy Analysis with **Pandas TA** and AI/ML\n",
    "* This is a **Work in Progress** and subject to change!\n",
    "* Contributions are welcome and accepted!\n",
    "* Examples below are for **educational purposes only**"
   ]
  },
  {
   "cell_type": "markdown",
   "metadata": {},
   "source": [
    "### Required Packages\n",
    "##### Uncomment the packages you need to install or are missing"
   ]
  },
  {
   "cell_type": "code",
   "execution_count": 1,
   "metadata": {},
   "outputs": [],
   "source": [
    "#!pip install numpy\n",
    "#!pip install pandas\n",
    "#!pip install mplfinance\n",
    "#!pip install pandas-datareader\n",
    "#!pip install requests_cache\n",
    "#!pip install alphaVantage-api"
   ]
  },
  {
   "cell_type": "code",
   "execution_count": 9,
   "metadata": {},
   "outputs": [
    {
     "name": "stdout",
     "output_type": "stream",
     "text": [
      "Populating the interactive namespace from numpy and matplotlib\n",
      "--Return--\n",
      "> <ipython-input-9-0db5736a78fd>(15)<module>()->None\n",
      "-> pdb.set_trace()\n",
      "(Pdb) l\n",
      " 10  \timport numpy as np\n",
      " 11  \timport pandas as pd\n",
      " 12  \tpd.set_option('max_rows', 100)\n",
      " 13  \tpd.set_option('max_columns', 20)\n",
      " 14  \t\n",
      " 15  ->\tpdb.set_trace()\n",
      " 16  \t\n",
      " 17  \timport mplfinance as mpf\n",
      " 18  \t\n",
      " 19  \timport pandas_ta as ta\n",
      " 20  \t\n",
      "(Pdb) n\n",
      "> /home/cloud/anaconda3/lib/python3.6/site-packages/IPython/core/interactiveshell.py(2966)run_code()\n",
      "-> sys.excepthook = old_excepthook\n",
      "(Pdb) n\n",
      "> /home/cloud/anaconda3/lib/python3.6/site-packages/IPython/core/interactiveshell.py(2982)run_code()\n",
      "-> outflag = False\n",
      "(Pdb) n\n",
      "> /home/cloud/anaconda3/lib/python3.6/site-packages/IPython/core/interactiveshell.py(2983)run_code()\n",
      "-> return outflag\n",
      "(Pdb) n\n",
      "--Return--\n",
      "> /home/cloud/anaconda3/lib/python3.6/site-packages/IPython/core/interactiveshell.py(2983)run_code()->False\n",
      "-> return outflag\n",
      "(Pdb) q\n"
     ]
    },
    {
     "ename": "BdbQuit",
     "evalue": "",
     "output_type": "error",
     "traceback": [
      "\u001b[0;31m---------------------------------------------------------------------------\u001b[0m",
      "\u001b[0;31mBdbQuit\u001b[0m                                   Traceback (most recent call last)",
      "\u001b[0;32m~/anaconda3/lib/python3.6/site-packages/IPython/core/interactiveshell.py\u001b[0m in \u001b[0;36mrun_code\u001b[0;34m(self, code_obj, result)\u001b[0m\n\u001b[1;32m   2981\u001b[0m         \u001b[0;32melse\u001b[0m\u001b[0;34m:\u001b[0m\u001b[0;34m\u001b[0m\u001b[0m\n\u001b[1;32m   2982\u001b[0m             \u001b[0moutflag\u001b[0m \u001b[0;34m=\u001b[0m \u001b[0;32mFalse\u001b[0m\u001b[0;34m\u001b[0m\u001b[0m\n\u001b[0;32m-> 2983\u001b[0;31m         \u001b[0;32mreturn\u001b[0m \u001b[0moutflag\u001b[0m\u001b[0;34m\u001b[0m\u001b[0m\n\u001b[0m\u001b[1;32m   2984\u001b[0m \u001b[0;34m\u001b[0m\u001b[0m\n\u001b[1;32m   2985\u001b[0m     \u001b[0;31m# For backwards compatibility\u001b[0m\u001b[0;34m\u001b[0m\u001b[0;34m\u001b[0m\u001b[0m\n",
      "\u001b[0;32m~/anaconda3/lib/python3.6/bdb.py\u001b[0m in \u001b[0;36mtrace_dispatch\u001b[0;34m(self, frame, event, arg)\u001b[0m\n\u001b[1;32m     53\u001b[0m             \u001b[0;32mreturn\u001b[0m \u001b[0mself\u001b[0m\u001b[0;34m.\u001b[0m\u001b[0mdispatch_call\u001b[0m\u001b[0;34m(\u001b[0m\u001b[0mframe\u001b[0m\u001b[0;34m,\u001b[0m \u001b[0marg\u001b[0m\u001b[0;34m)\u001b[0m\u001b[0;34m\u001b[0m\u001b[0m\n\u001b[1;32m     54\u001b[0m         \u001b[0;32mif\u001b[0m \u001b[0mevent\u001b[0m \u001b[0;34m==\u001b[0m \u001b[0;34m'return'\u001b[0m\u001b[0;34m:\u001b[0m\u001b[0;34m\u001b[0m\u001b[0m\n\u001b[0;32m---> 55\u001b[0;31m             \u001b[0;32mreturn\u001b[0m \u001b[0mself\u001b[0m\u001b[0;34m.\u001b[0m\u001b[0mdispatch_return\u001b[0m\u001b[0;34m(\u001b[0m\u001b[0mframe\u001b[0m\u001b[0;34m,\u001b[0m \u001b[0marg\u001b[0m\u001b[0;34m)\u001b[0m\u001b[0;34m\u001b[0m\u001b[0m\n\u001b[0m\u001b[1;32m     56\u001b[0m         \u001b[0;32mif\u001b[0m \u001b[0mevent\u001b[0m \u001b[0;34m==\u001b[0m \u001b[0;34m'exception'\u001b[0m\u001b[0;34m:\u001b[0m\u001b[0;34m\u001b[0m\u001b[0m\n\u001b[1;32m     57\u001b[0m             \u001b[0;32mreturn\u001b[0m \u001b[0mself\u001b[0m\u001b[0;34m.\u001b[0m\u001b[0mdispatch_exception\u001b[0m\u001b[0;34m(\u001b[0m\u001b[0mframe\u001b[0m\u001b[0;34m,\u001b[0m \u001b[0marg\u001b[0m\u001b[0;34m)\u001b[0m\u001b[0;34m\u001b[0m\u001b[0m\n",
      "\u001b[0;32m~/anaconda3/lib/python3.6/bdb.py\u001b[0m in \u001b[0;36mdispatch_return\u001b[0;34m(self, frame, arg)\u001b[0m\n\u001b[1;32m     97\u001b[0m             \u001b[0;32mfinally\u001b[0m\u001b[0;34m:\u001b[0m\u001b[0;34m\u001b[0m\u001b[0m\n\u001b[1;32m     98\u001b[0m                 \u001b[0mself\u001b[0m\u001b[0;34m.\u001b[0m\u001b[0mframe_returning\u001b[0m \u001b[0;34m=\u001b[0m \u001b[0;32mNone\u001b[0m\u001b[0;34m\u001b[0m\u001b[0m\n\u001b[0;32m---> 99\u001b[0;31m             \u001b[0;32mif\u001b[0m \u001b[0mself\u001b[0m\u001b[0;34m.\u001b[0m\u001b[0mquitting\u001b[0m\u001b[0;34m:\u001b[0m \u001b[0;32mraise\u001b[0m \u001b[0mBdbQuit\u001b[0m\u001b[0;34m\u001b[0m\u001b[0m\n\u001b[0m\u001b[1;32m    100\u001b[0m             \u001b[0;31m# The user issued a 'next' or 'until' command.\u001b[0m\u001b[0;34m\u001b[0m\u001b[0;34m\u001b[0m\u001b[0m\n\u001b[1;32m    101\u001b[0m             \u001b[0;32mif\u001b[0m \u001b[0mself\u001b[0m\u001b[0;34m.\u001b[0m\u001b[0mstopframe\u001b[0m \u001b[0;32mis\u001b[0m \u001b[0mframe\u001b[0m \u001b[0;32mand\u001b[0m \u001b[0mself\u001b[0m\u001b[0;34m.\u001b[0m\u001b[0mstoplineno\u001b[0m \u001b[0;34m!=\u001b[0m \u001b[0;34m-\u001b[0m\u001b[0;36m1\u001b[0m\u001b[0;34m:\u001b[0m\u001b[0;34m\u001b[0m\u001b[0m\n",
      "\u001b[0;31mBdbQuit\u001b[0m: "
     ]
    }
   ],
   "source": [
    "%pylab inline\n",
    "import os, pdb, sys\n",
    "\n",
    "\n",
    "\n",
    "import datetime as dt\n",
    "import random as rnd\n",
    "from sys import float_info as sflt\n",
    "\n",
    "import numpy as np\n",
    "import pandas as pd\n",
    "pd.set_option('max_rows', 100)\n",
    "pd.set_option('max_columns', 20)\n",
    "\n",
    "# pdb.set_trace()\n",
    "\n",
    "import mplfinance as mpf\n",
    "\n",
    "import pandas_ta as ta\n",
    "\n",
    "\n",
    "from alphaVantageAPI.alphavantage import AlphaVantage\n",
    "from watchlist import colors, Watchlist\n",
    "\n",
    "\n",
    "print(f\"Numpy v{np.__version__}\")\n",
    "print(f\"Pandas v{pd.__version__}\")\n",
    "print(f\"mplfinance v{mpf.__version__}\")\n",
    "print(f\"Pandas TA v{ta.version}\")\n",
    "%matplotlib inline"
   ]
  },
  {
   "cell_type": "markdown",
   "metadata": {},
   "source": [
    "## MISC Functions"
   ]
  },
  {
   "cell_type": "code",
   "execution_count": 8,
   "metadata": {},
   "outputs": [],
   "source": [
    "def recent_bars(df, tf: str = \"1y\"):\n",
    "    # All Data: 0, Last Four Years: 0.25, Last Two Years: 0.5, This Year: 1, Last Half Year: 2, Last Quarter: 3\n",
    "    yearly_divisor = {\"all\": 0, \"10y\": 0.1, \"5y\": 0.2, \"4y\": 0.25, \"3y\": 1./3, \"2y\": 0.5, \"1y\": 1, \"6mo\": 2, \"3mo\": 3}\n",
    "    yd = yearly_divisor[tf] if tf in yearly_divisor.keys() else 0\n",
    "    return int(ta.TRADING_DAYS_PER_YEAR / yd) if yd > 0 else df.shape[0]"
   ]
  },
  {
   "cell_type": "markdown",
   "metadata": {},
   "source": [
    "## Collect some Data"
   ]
  },
  {
   "cell_type": "code",
   "execution_count": 9,
   "metadata": {},
   "outputs": [
    {
     "ename": "NameError",
     "evalue": "name 'Watchlist' is not defined",
     "output_type": "error",
     "traceback": [
      "\u001b[0;31m---------------------------------------------------------------------------\u001b[0m",
      "\u001b[0;31mNameError\u001b[0m                                 Traceback (most recent call last)",
      "\u001b[0;32m<ipython-input-9-09e9efcd23bd>\u001b[0m in \u001b[0;36m<module>\u001b[0;34m()\u001b[0m\n\u001b[1;32m      1\u001b[0m \u001b[0mtf\u001b[0m \u001b[0;34m=\u001b[0m \u001b[0;34m\"D\"\u001b[0m\u001b[0;34m\u001b[0m\u001b[0m\n\u001b[1;32m      2\u001b[0m \u001b[0mtickers\u001b[0m \u001b[0;34m=\u001b[0m \u001b[0;34m[\u001b[0m\u001b[0;34m\"SPY\"\u001b[0m\u001b[0;34m,\u001b[0m \u001b[0;34m\"QQQ\"\u001b[0m\u001b[0;34m,\u001b[0m \u001b[0;34m\"AAPL\"\u001b[0m\u001b[0;34m,\u001b[0m \u001b[0;34m\"TSLA\"\u001b[0m\u001b[0;34m]\u001b[0m\u001b[0;34m\u001b[0m\u001b[0m\n\u001b[0;32m----> 3\u001b[0;31m \u001b[0mwatch\u001b[0m \u001b[0;34m=\u001b[0m \u001b[0mWatchlist\u001b[0m\u001b[0;34m(\u001b[0m\u001b[0mtickers\u001b[0m\u001b[0;34m,\u001b[0m \u001b[0mtf\u001b[0m\u001b[0;34m=\u001b[0m\u001b[0mtf\u001b[0m\u001b[0;34m)\u001b[0m\u001b[0;34m\u001b[0m\u001b[0m\n\u001b[0m\u001b[1;32m      4\u001b[0m \u001b[0mwatch\u001b[0m\u001b[0;34m.\u001b[0m\u001b[0mstrategy\u001b[0m \u001b[0;34m=\u001b[0m \u001b[0mta\u001b[0m\u001b[0;34m.\u001b[0m\u001b[0mCommonStrategy\u001b[0m\u001b[0;34m\u001b[0m\u001b[0m\n\u001b[1;32m      5\u001b[0m \u001b[0mwatch\u001b[0m\u001b[0;34m.\u001b[0m\u001b[0mload\u001b[0m\u001b[0;34m(\u001b[0m\u001b[0mtickers\u001b[0m\u001b[0;34m,\u001b[0m \u001b[0mtimed\u001b[0m\u001b[0;34m=\u001b[0m\u001b[0;32mTrue\u001b[0m\u001b[0;34m,\u001b[0m \u001b[0manalyze\u001b[0m\u001b[0;34m=\u001b[0m\u001b[0;32mTrue\u001b[0m\u001b[0;34m,\u001b[0m \u001b[0mverbose\u001b[0m\u001b[0;34m=\u001b[0m\u001b[0;32mFalse\u001b[0m\u001b[0;34m)\u001b[0m\u001b[0;34m\u001b[0m\u001b[0m\n",
      "\u001b[0;31mNameError\u001b[0m: name 'Watchlist' is not defined"
     ]
    }
   ],
   "source": [
    "tf = \"D\"\n",
    "tickers = [\"SPY\", \"QQQ\", \"AAPL\", \"TSLA\"]\n",
    "watch = Watchlist(tickers, tf=tf)\n",
    "watch.strategy = ta.CommonStrategy\n",
    "watch.load(tickers, timed=True, analyze=True, verbose=False)"
   ]
  },
  {
   "cell_type": "markdown",
   "metadata": {},
   "source": [
    "# Select an Asset"
   ]
  },
  {
   "cell_type": "code",
   "execution_count": null,
   "metadata": {},
   "outputs": [],
   "source": [
    "ticker = tickers[2]\n",
    "# watch.data[ticker].ta.constants(True, [0, 0, 0])\n",
    "print(f\"{ticker} {watch.data[ticker].shape}\\nColumns: {', '.join(list(watch.data[ticker].columns))}\")"
   ]
  },
  {
   "cell_type": "markdown",
   "metadata": {},
   "source": [
    "### Trim it"
   ]
  },
  {
   "cell_type": "code",
   "execution_count": null,
   "metadata": {},
   "outputs": [],
   "source": [
    "duration = \"1y\"\n",
    "recent = recent_bars(watch.data[ticker], duration)\n",
    "asset = watch.data[ticker].copy().tail(recent)\n",
    "print(f\"{ticker} {asset.shape}\\nColumns: {', '.join(list(asset.columns))}\")"
   ]
  },
  {
   "cell_type": "markdown",
   "metadata": {},
   "source": [
    "# Create a Trend"
   ]
  },
  {
   "cell_type": "code",
   "execution_count": null,
   "metadata": {},
   "outputs": [],
   "source": [
    "# Example Long Trends\n",
    "# long = ta.sma(asset.close, 10) < ta.sma(asset.close, 20) # SMA(10) > SMA(20)\n",
    "# long = ta.ema(asset.close, 8) > ta.ema(asset.close, 21) # EMA(8) > EMA(21)\n",
    "long = ta.increasing(ta.ema(asset.close, 50))\n",
    "# long = ta.macd(asset.close).iloc[:,1] > 0 # MACD Histogram is positive\n",
    "\n",
    "asset.ta.ema(length=8, append=True)\n",
    "asset.ta.ema(length=21, append=True)\n",
    "asset.ta.ema(length=50, append=True)"
   ]
  },
  {
   "cell_type": "markdown",
   "metadata": {},
   "source": [
    "## Calculate Trend Returns from the long trend"
   ]
  },
  {
   "cell_type": "code",
   "execution_count": null,
   "metadata": {},
   "outputs": [],
   "source": [
    "trendy = asset.ta.trend_return(trend=long, cumulative=True, append=True)\n",
    "trendy.tail() # Third Column is the long trend; binary sequences"
   ]
  },
  {
   "cell_type": "markdown",
   "metadata": {},
   "source": [
    "## Trend Returns and Cumulative Trend Returns"
   ]
  },
  {
   "cell_type": "code",
   "execution_count": null,
   "metadata": {},
   "outputs": [],
   "source": [
    "cltr = trendy.iloc[:,0]\n",
    "tr = trendy.iloc[:,1]\n",
    "\n",
    "trendy.iloc[:,:2].plot(figsize=(16, 3), color=colors(\"BkBl\"))\n",
    "cltr.plot(figsize=(16, 3), kind=\"area\", stacked=False, color=colors(\"SvGy\")[0], alpha=0.25, grid=True)"
   ]
  },
  {
   "cell_type": "markdown",
   "metadata": {},
   "source": [
    "# Total Return"
   ]
  },
  {
   "cell_type": "code",
   "execution_count": null,
   "metadata": {},
   "outputs": [],
   "source": [
    "capital = 10000\n",
    "\n",
    "total_return = cltr.cumsum() * capital\n",
    "positive_return = total_return[total_return > 0]\n",
    "negative_return = total_return[total_return <= 0]\n",
    "trdf = pd.DataFrame({\"tr+\": positive_return, \"tr-\": negative_return})\n",
    "trdf.plot(figsize=(16, 5), color=colors(), kind=\"area\", stacked=False, alpha=0.25, grid=True)"
   ]
  },
  {
   "cell_type": "markdown",
   "metadata": {},
   "source": [
    "## Long and Short Trends"
   ]
  },
  {
   "cell_type": "code",
   "execution_count": null,
   "metadata": {},
   "outputs": [],
   "source": [
    "long_trend = (trendy.iloc[:,-2] > 0).astype(int)\n",
    "short_trend = (1 - long_trend).astype(int)\n",
    "\n",
    "long_trend.plot(figsize=(16, 0.85), kind=\"area\", stacked=True, color=colors()[0], alpha=0.25)\n",
    "short_trend.plot(figsize=(16, 0.85), kind=\"area\", stacked=True, color=colors()[1], alpha=0.25)"
   ]
  },
  {
   "cell_type": "markdown",
   "metadata": {},
   "source": [
    "## Entries & Exits"
   ]
  },
  {
   "cell_type": "code",
   "execution_count": null,
   "metadata": {},
   "outputs": [],
   "source": [
    "entries = (trendy.iloc[:,-1] > 0).astype(int) * asset.close\n",
    "entries[entries < 0.0001] = np.NaN\n",
    "entries.name = \"entries\"\n",
    "exits = (trendy.iloc[:,-1] < 0).astype(int) * asset.close\n",
    "exits[exits < 0.0001] = np.NaN\n",
    "exits.name = \"exits\"\n",
    "\n",
    "first_date = asset.index[0]\n",
    "last_date = asset.index[-1]\n",
    "f_date = f\"{first_date.day_name()} {first_date.month}-{first_date.day}-{first_date.year}\"\n",
    "l_date = f\"{last_date.day_name()} {last_date.month}-{last_date.day}-{last_date.year}\"\n",
    "last_ohlcv = f\"Last OHLCV: ({asset.iloc[-1].open}, {asset.iloc[-1].high}, {asset.iloc[-1].low}, {asset.iloc[-1].close}, {int(asset.iloc[-1].volume)})\"\n",
    "ptitle = f\"\\n{ticker} ({tf} | {duration}) from {f_date} to {l_date}  ({recent} bars)\\n{last_ohlcv}\"\n",
    "\n",
    "# chart = asset[\"close\"] #asset[[\"close\", \"SMA_10\", \"SMA_20\", \"SMA_50\", \"SMA_200\"]]\n",
    "# chart = asset[[\"close\", \"SMA_10\", \"SMA_20\"]]\n",
    "chart = asset[[\"close\", \"EMA_8\", \"EMA_21\", \"EMA_50\"]]\n",
    "chart.plot(figsize=(16, 10), color=colors(\"BkGrRd\"), title=ptitle, grid=True)\n",
    "entries.plot(figsize=(16, 10), color=colors(\"FcLi\")[1], marker=\"^\", markersize=12, alpha=0.8)\n",
    "exits.plot(figsize=(16, 10), color=colors(\"FcLi\")[0], marker=\"v\", markersize=12, alpha=0.8, grid=True)\n",
    "\n",
    "total_trades = trendy.iloc[:,-1].abs().sum()\n",
    "print(f\"Total Trades: {total_trades}\")\n",
    "\n",
    "entries_ = entries.dropna()\n",
    "exits_ = exits.dropna()\n",
    "all_trades = trendy.iloc[:,-1].copy().dropna()\n",
    "# all_trades[all_trades != 0]"
   ]
  },
  {
   "cell_type": "markdown",
   "metadata": {},
   "source": [
    "# AI Analysis"
   ]
  },
  {
   "cell_type": "markdown",
   "metadata": {},
   "source": [
    "binary sequence ---> software ---> entries and exits"
   ]
  },
  {
   "cell_type": "code",
   "execution_count": null,
   "metadata": {},
   "outputs": [],
   "source": [
    "import pdb\n",
    "import numpy\n",
    "from keras.models import Sequential\n",
    "from keras.layers import Dense\n",
    "from keras.layers import Dropout\n",
    "from keras.layers import LSTM\n",
    "from keras.callbacks import ModelCheckpoint\n",
    "from keras.utils import np_utils"
   ]
  },
  {
   "cell_type": "code",
   "execution_count": null,
   "metadata": {},
   "outputs": [],
   "source": [
    "def make_dataset(n_chars, n_vocab, raw_text, char_to_int):\n",
    "\t# prepare the dataset of input to output pairs encoded as integers\n",
    "\n",
    "\tseq_length = 100\n",
    "\tdataX = []\n",
    "\tdataY = []\n",
    "\tfor i in range(0, n_chars - seq_length, 1):\n",
    "\t\tseq_in = raw_text[i:i + seq_length]\n",
    "\t\tseq_out = raw_text[i + seq_length]\n",
    "\t\tdataX.append([char_to_int[char] for char in seq_in])\n",
    "\t\tdataY.append(char_to_int[seq_out])\n",
    "\tn_patterns = len(dataX)\n",
    "\tprint (\"Total Patterns: \", n_patterns)\n",
    "\t# reshape X to be [samples, time steps, features]\n",
    "\tX = numpy.reshape(dataX, (n_patterns, seq_length, 1))\n",
    "\t# normalize\n",
    "\tX = X / float(n_vocab)\n",
    "\t# one hot encode the output variable\n",
    "\ty = np_utils.to_categorical(dataY)\n",
    "\n",
    "\tif (TESTING):\n",
    "\t\tpdb.set_trace()\n",
    "\n",
    "\treturn X, y"
   ]
  },
  {
   "cell_type": "code",
   "execution_count": null,
   "metadata": {},
   "outputs": [],
   "source": [
    "def train_model(X, y):\n",
    "\t# define the LSTM model\n",
    "\tmodel = Sequential()\n",
    "\tmodel.add(LSTM(256, input_shape=(X.shape[1], X.shape[2])))\n",
    "\tmodel.add(Dropout(0.2))\n",
    "\tmodel.add(Dense(y.shape[1], activation='softmax'))\n",
    "\tmodel.compile(loss='categorical_crossentropy', optimizer='adam')\n",
    "\t# define the checkpoint\n",
    "\tfilepath=\"weights-improvement-{epoch:02d}-{loss:.4f}.hdf5\"\n",
    "\tcheckpoint = ModelCheckpoint(filepath, monitor='loss', verbose=1, save_best_only=True, mode='min')\n",
    "\tcallbacks_list = [checkpoint]\n",
    "\t# fit the model\n",
    "\tmodel.fit(X, y, epochs=20, batch_size=128, callbacks=callbacks_list)"
   ]
  },
  {
   "cell_type": "code",
   "execution_count": null,
   "metadata": {},
   "outputs": [],
   "source": [
    "file_name = input(\"Please, give input text file, thanks.\")\n",
    "n_chars, n_vocab, raw_text, char_to_int = data_manipulation(file_name)\n",
    "X, y = make_dataset(n_chars, n_vocab, raw_text, char_to_int)\n",
    "train_model(X, y)"
   ]
  }
 ],
 "metadata": {
  "kernelspec": {
   "display_name": "Python 3",
   "language": "python",
   "name": "python3"
  },
  "language_info": {
   "codemirror_mode": {
    "name": "ipython",
    "version": 3
   },
   "file_extension": ".py",
   "mimetype": "text/x-python",
   "name": "python",
   "nbconvert_exporter": "python",
   "pygments_lexer": "ipython3",
   "version": "3.6.5"
  }
 },
 "nbformat": 4,
 "nbformat_minor": 4
}
